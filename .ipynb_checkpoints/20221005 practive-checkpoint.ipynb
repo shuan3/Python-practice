{
 "cells": [
  {
   "cell_type": "code",
   "execution_count": 1,
   "metadata": {},
   "outputs": [
    {
     "name": "stdout",
     "output_type": "stream",
     "text": [
      "Hello/ntest\n"
     ]
    }
   ],
   "source": [
    "print(\"Hello\",end='/n')\n",
    "#print(\"Hello\",end=\"\")\n",
    "#print(\"Hello\",end=\" \")\n",
    "print(\"test\")"
   ]
  },
  {
   "cell_type": "code",
   "execution_count": 2,
   "metadata": {},
   "outputs": [],
   "source": [
    "#rows = int(input(\"Enter the number of rows:\"))  \n",
    "#n = 2 * rows - 2  # It is used for number of spaces  \n",
    "def K(r):\n",
    "    b=2 *r - 2\n",
    "    for i in range(0,r):\n",
    "        for j in range(0,b):\n",
    "            print(\"\",end=\" \")\n",
    "        b=b-1\n",
    "        for j in range(0,i+1):print(\" * \", end=\"\")\n",
    "        print(\"\")\n",
    "\n",
    "\n",
    "            \n",
    "        \n",
    "\n",
    "\n"
   ]
  },
  {
   "cell_type": "code",
   "execution_count": 3,
   "metadata": {},
   "outputs": [
    {
     "name": "stdout",
     "output_type": "stream",
     "text": [
      "     * \n",
      "    *  * \n",
      "   *  *  * \n"
     ]
    }
   ],
   "source": [
    "K(3)"
   ]
  },
  {
   "cell_type": "code",
   "execution_count": 4,
   "metadata": {},
   "outputs": [
    {
     "name": "stdout",
     "output_type": "stream",
     "text": [
      "Enter the number of rows:2\n",
      "  * \n",
      "* * \n"
     ]
    }
   ],
   "source": [
    "rows = int(input(\"Enter the number of rows:\"))  \n",
    "k = 2 * rows - 2  # It is used for number of spaces  \n",
    "for i in range(0, rows):  \n",
    "    for j in range(0, k):  \n",
    "        print(end=\" \")  \n",
    "    k = k - 2   # decrement k value after each iteration  \n",
    "    for j in range(0, i + 1):  \n",
    "        print(\"* \", end=\"\")  # printing star  \n",
    "    print(\"\")  "
   ]
  },
  {
   "cell_type": "code",
   "execution_count": 5,
   "metadata": {},
   "outputs": [
    {
     "name": "stdout",
     "output_type": "stream",
     "text": [
      "Enter the number of rows: 2\n",
      "  *   \n",
      " *  *   \n"
     ]
    }
   ],
   "source": [
    "n = int(input(\"Enter the number of rows: \"))  \n",
    "m = (2 * n) - 2  \n",
    "for i in range(0, n):  \n",
    "    for j in range(0, m):  \n",
    "        print(end=\" \")  \n",
    "    m = m - 1  # decrementing m after each loop  \n",
    "    for j in range(0, i + 1):  \n",
    "        # printing full Triangle pyramid using stars  \n",
    "        print(\"* \", end=' ')  \n",
    "    print(\" \")  "
   ]
  },
  {
   "cell_type": "code",
   "execution_count": 6,
   "metadata": {},
   "outputs": [],
   "source": [
    "class Solution(object):\n",
    "    def wordSubsets(self, A, B):\n",
    "        def count(word):\n",
    "            ans = [0] * 26\n",
    "            for letter in word:\n",
    "                ans[ord(letter) - ord('a')] += 1\n",
    "            return ans\n",
    "\n",
    "        bmax = [0] * 26\n",
    "        for b in B:\n",
    "            for i, c in enumerate(count(b)):\n",
    "                bmax[i] = max(bmax[i], c)\n",
    "\n",
    "        ans = []\n",
    "        for a in A:\n",
    "            if all(x >= y for x, y in zip(count(a), bmax)):\n",
    "                ans.append(a)\n",
    "        return ans"
   ]
  },
  {
   "cell_type": "code",
   "execution_count": 7,
   "metadata": {},
   "outputs": [],
   "source": [
    "\n",
    "A=[\"amazon\",\"apple\",\"facebook\",\"google\",\"leetcode\"]\n",
    "B=[\"e\",\"o\"]"
   ]
  },
  {
   "cell_type": "code",
   "execution_count": 21,
   "metadata": {},
   "outputs": [],
   "source": [
    "class Solution(object):\n",
    "    def wordSubsets(self, A, B):\n",
    "        def count(word):\n",
    "            ans = [0] * 26\n",
    "            for letter in word:\n",
    "                ans[ord(letter) - ord('a')] += 1\n",
    "            return ans\n",
    "\n",
    "        bmax = [0] * 26\n",
    "        for b in B:\n",
    "            for i, c in enumerate(count(b)):\n",
    "                bmax[i] = max(bmax[i], c)\n",
    "\n",
    "        ans = []\n",
    "        for a in A:\n",
    "            if all(x >= y for x, y in zip(count(a), bmax)):\n",
    "                ans.append(a)\n",
    "        return ans"
   ]
  },
  {
   "cell_type": "code",
   "execution_count": 28,
   "metadata": {},
   "outputs": [],
   "source": [
    "B=[\"e\",\"o\"]\n",
    "bmax = [0] * 26"
   ]
  },
  {
   "cell_type": "code",
   "execution_count": 30,
   "metadata": {},
   "outputs": [],
   "source": [
    "for b in B:\n",
    "    for i, c in enumerate(count(b)):\n",
    "        bmax[i] = max(bmax[i], c)"
   ]
  },
  {
   "cell_type": "code",
   "execution_count": 31,
   "metadata": {},
   "outputs": [
    {
     "name": "stdout",
     "output_type": "stream",
     "text": [
      "[0, 0, 0, 0, 1, 0, 0, 0, 0, 0, 0, 0, 0, 0, 1, 0, 0, 0, 0, 0, 0, 0, 0, 0, 0, 0]\n"
     ]
    }
   ],
   "source": [
    "print(bmax)"
   ]
  },
  {
   "cell_type": "code",
   "execution_count": 12,
   "metadata": {},
   "outputs": [
    {
     "name": "stdout",
     "output_type": "stream",
     "text": [
      "[0, 0, 0, 0, 0, 0, 0, 0, 0, 0, 0, 0, 0, 0, 0, 0, 0, 0, 0, 0, 0, 0, 0, 0, 0, 0]\n"
     ]
    }
   ],
   "source": [
    "ans = [0] * 26\n",
    "print(ans)"
   ]
  },
  {
   "cell_type": "code",
   "execution_count": 15,
   "metadata": {},
   "outputs": [
    {
     "name": "stdout",
     "output_type": "stream",
     "text": [
      "98\n"
     ]
    }
   ],
   "source": [
    "\n",
    "print(ord('b'))"
   ]
  },
  {
   "cell_type": "code",
   "execution_count": 22,
   "metadata": {},
   "outputs": [],
   "source": [
    "nums = [2,7,11,15]\n",
    "target = 9"
   ]
  },
  {
   "cell_type": "code",
   "execution_count": 30,
   "metadata": {},
   "outputs": [],
   "source": [
    "def twoSum(nums, target):\n",
    "        i=0\n",
    "        while i<len(nums):\n",
    "            if nums[i]+nums[i+1]==target:\n",
    "                print(i,i+1)\n",
    "                break\n",
    "            i=i+1\n"
   ]
  },
  {
   "cell_type": "code",
   "execution_count": 31,
   "metadata": {},
   "outputs": [
    {
     "name": "stdout",
     "output_type": "stream",
     "text": [
      "0 1\n",
      "None\n"
     ]
    }
   ],
   "source": [
    "print(twoSum(nums, target))"
   ]
  },
  {
   "cell_type": "code",
   "execution_count": 27,
   "metadata": {},
   "outputs": [
    {
     "name": "stdout",
     "output_type": "stream",
     "text": [
      "Current Letter : h\n"
     ]
    }
   ],
   "source": [
    "for letter in 'Python':\n",
    "    if letter == 'h':\n",
    "        print('Current Letter :', letter)\n",
    "        break\n",
    "        \n",
    "    "
   ]
  },
  {
   "cell_type": "code",
   "execution_count": 32,
   "metadata": {},
   "outputs": [],
   "source": [
    "class Solution:\n",
    "    def twoSum(self, nums, target):\n",
    "        \"\"\"\n",
    "        :type nums: List[int]\n",
    "        :type target: int\n",
    "        :rtype: List[int]\n",
    "        \"\"\"\n",
    "        h = {}\n",
    "        for i, num in enumerate(nums):\n",
    "            n = target - num\n",
    "            if n not in h:\n",
    "                h[num] = i\n",
    "            else:\n",
    "                return [h[n], i]"
   ]
  },
  {
   "cell_type": "code",
   "execution_count": 34,
   "metadata": {},
   "outputs": [
    {
     "ename": "NameError",
     "evalue": "name 'List' is not defined",
     "output_type": "error",
     "traceback": [
      "\u001b[1;31m---------------------------------------------------------------------------\u001b[0m",
      "\u001b[1;31mNameError\u001b[0m                                 Traceback (most recent call last)",
      "\u001b[1;32m<ipython-input-34-ca7687d7b893>\u001b[0m in \u001b[0;36m<module>\u001b[1;34m\u001b[0m\n\u001b[1;32m----> 1\u001b[1;33m \u001b[1;32mclass\u001b[0m \u001b[0mSolution\u001b[0m\u001b[1;33m:\u001b[0m\u001b[1;33m\u001b[0m\u001b[1;33m\u001b[0m\u001b[0m\n\u001b[0m\u001b[0;32m      2\u001b[0m     \u001b[1;32mdef\u001b[0m \u001b[0mtwoSum\u001b[0m\u001b[1;33m(\u001b[0m\u001b[0mself\u001b[0m\u001b[1;33m,\u001b[0m \u001b[0mnums\u001b[0m\u001b[1;33m:\u001b[0m \u001b[0mList\u001b[0m\u001b[1;33m[\u001b[0m\u001b[0mint\u001b[0m\u001b[1;33m]\u001b[0m\u001b[1;33m,\u001b[0m \u001b[0mtarget\u001b[0m\u001b[1;33m:\u001b[0m \u001b[0mint\u001b[0m\u001b[1;33m)\u001b[0m \u001b[1;33m->\u001b[0m \u001b[0mList\u001b[0m\u001b[1;33m[\u001b[0m\u001b[0mint\u001b[0m\u001b[1;33m]\u001b[0m\u001b[1;33m:\u001b[0m\u001b[1;33m\u001b[0m\u001b[1;33m\u001b[0m\u001b[0m\n\u001b[0;32m      3\u001b[0m         \u001b[0mi\u001b[0m\u001b[1;33m=\u001b[0m\u001b[1;36m0\u001b[0m\u001b[1;33m\u001b[0m\u001b[1;33m\u001b[0m\u001b[0m\n\u001b[0;32m      4\u001b[0m         \u001b[1;32mwhile\u001b[0m \u001b[0mi\u001b[0m\u001b[1;33m<\u001b[0m\u001b[0mlen\u001b[0m\u001b[1;33m(\u001b[0m\u001b[0mnums\u001b[0m\u001b[1;33m)\u001b[0m\u001b[1;33m:\u001b[0m\u001b[1;33m\u001b[0m\u001b[1;33m\u001b[0m\u001b[0m\n\u001b[0;32m      5\u001b[0m             \u001b[1;32mif\u001b[0m \u001b[0mnums\u001b[0m\u001b[1;33m[\u001b[0m\u001b[0mi\u001b[0m\u001b[1;33m]\u001b[0m\u001b[1;33m+\u001b[0m\u001b[0mnums\u001b[0m\u001b[1;33m[\u001b[0m\u001b[0mi\u001b[0m\u001b[1;33m+\u001b[0m\u001b[1;36m1\u001b[0m\u001b[1;33m]\u001b[0m\u001b[1;33m==\u001b[0m\u001b[0mtarget\u001b[0m\u001b[1;33m:\u001b[0m\u001b[1;33m\u001b[0m\u001b[1;33m\u001b[0m\u001b[0m\n",
      "\u001b[1;32m<ipython-input-34-ca7687d7b893>\u001b[0m in \u001b[0;36mSolution\u001b[1;34m()\u001b[0m\n\u001b[0;32m      1\u001b[0m \u001b[1;32mclass\u001b[0m \u001b[0mSolution\u001b[0m\u001b[1;33m:\u001b[0m\u001b[1;33m\u001b[0m\u001b[1;33m\u001b[0m\u001b[0m\n\u001b[1;32m----> 2\u001b[1;33m     \u001b[1;32mdef\u001b[0m \u001b[0mtwoSum\u001b[0m\u001b[1;33m(\u001b[0m\u001b[0mself\u001b[0m\u001b[1;33m,\u001b[0m \u001b[0mnums\u001b[0m\u001b[1;33m:\u001b[0m \u001b[0mList\u001b[0m\u001b[1;33m[\u001b[0m\u001b[0mint\u001b[0m\u001b[1;33m]\u001b[0m\u001b[1;33m,\u001b[0m \u001b[0mtarget\u001b[0m\u001b[1;33m:\u001b[0m \u001b[0mint\u001b[0m\u001b[1;33m)\u001b[0m \u001b[1;33m->\u001b[0m \u001b[0mList\u001b[0m\u001b[1;33m[\u001b[0m\u001b[0mint\u001b[0m\u001b[1;33m]\u001b[0m\u001b[1;33m:\u001b[0m\u001b[1;33m\u001b[0m\u001b[1;33m\u001b[0m\u001b[0m\n\u001b[0m\u001b[0;32m      3\u001b[0m         \u001b[0mi\u001b[0m\u001b[1;33m=\u001b[0m\u001b[1;36m0\u001b[0m\u001b[1;33m\u001b[0m\u001b[1;33m\u001b[0m\u001b[0m\n\u001b[0;32m      4\u001b[0m         \u001b[1;32mwhile\u001b[0m \u001b[0mi\u001b[0m\u001b[1;33m<\u001b[0m\u001b[0mlen\u001b[0m\u001b[1;33m(\u001b[0m\u001b[0mnums\u001b[0m\u001b[1;33m)\u001b[0m\u001b[1;33m:\u001b[0m\u001b[1;33m\u001b[0m\u001b[1;33m\u001b[0m\u001b[0m\n\u001b[0;32m      5\u001b[0m             \u001b[1;32mif\u001b[0m \u001b[0mnums\u001b[0m\u001b[1;33m[\u001b[0m\u001b[0mi\u001b[0m\u001b[1;33m]\u001b[0m\u001b[1;33m+\u001b[0m\u001b[0mnums\u001b[0m\u001b[1;33m[\u001b[0m\u001b[0mi\u001b[0m\u001b[1;33m+\u001b[0m\u001b[1;36m1\u001b[0m\u001b[1;33m]\u001b[0m\u001b[1;33m==\u001b[0m\u001b[0mtarget\u001b[0m\u001b[1;33m:\u001b[0m\u001b[1;33m\u001b[0m\u001b[1;33m\u001b[0m\u001b[0m\n",
      "\u001b[1;31mNameError\u001b[0m: name 'List' is not defined"
     ]
    }
   ],
   "source": [
    "class Solution:\n",
    "    def twoSum(self, nums: List[int], target: int) -> List[int]:\n",
    "        i=0\n",
    "        while i<len(nums):\n",
    "            if nums[i]+nums[i+1]==target:\n",
    "                return[i,i+1]\n",
    "                break\n",
    "            i=i+1\n",
    "        "
   ]
  },
  {
   "cell_type": "code",
   "execution_count": 3,
   "metadata": {},
   "outputs": [
    {
     "name": "stdout",
     "output_type": "stream",
     "text": [
      "4.5\n",
      "5.0\n",
      "5.5\n",
      "6.0\n",
      "6.5\n",
      "7.0\n",
      "7.5\n",
      "8.0\n",
      "8.5\n",
      "9.0\n",
      "9.5\n",
      "10.0\n",
      "10.5\n",
      "11.0\n",
      "11.5\n",
      "12.0\n",
      "12.5\n",
      "13.0\n",
      "13.5\n",
      "14.0\n",
      "14.5\n",
      "15.0\n",
      "15.5\n",
      "16.0\n",
      "16.5\n",
      "17.0\n",
      "17.5\n",
      "18.0\n",
      "18.5\n",
      "19.0\n",
      "19.5\n",
      "20.0\n",
      "20.5\n",
      "21.0\n",
      "21.5\n",
      "22.0\n",
      "22.5\n",
      "23.0\n",
      "23.5\n",
      "24.0\n",
      "24.5\n",
      "25.0\n"
     ]
    }
   ],
   "source": [
    "for n in range(9,51):\n",
    "    print(n/2)"
   ]
  },
  {
   "cell_type": "code",
   "execution_count": 4,
   "metadata": {},
   "outputs": [
    {
     "name": "stdout",
     "output_type": "stream",
     "text": [
      "9\n",
      "11\n",
      "13\n",
      "15\n",
      "17\n",
      "19\n",
      "21\n",
      "23\n",
      "25\n",
      "27\n",
      "29\n",
      "31\n",
      "33\n",
      "35\n",
      "37\n",
      "39\n",
      "41\n",
      "43\n",
      "45\n",
      "47\n",
      "49\n",
      "51\n"
     ]
    }
   ],
   "source": [
    "for i in range(9, 52, 2):\n",
    "    print(i)"
   ]
  },
  {
   "cell_type": "code",
   "execution_count": 5,
   "metadata": {},
   "outputs": [
    {
     "name": "stdout",
     "output_type": "stream",
     "text": [
      "1\n",
      "4\n",
      "7\n",
      "8\n",
      "15\n"
     ]
    }
   ],
   "source": [
    "numbers = [1, 4, 7, 8, 15, 20, 35, 45, 55]\n",
    "for i in numbers:\n",
    "    if i > 15:\n",
    "        # break the loop\n",
    "        break\n",
    "    else:\n",
    "        print(i)"
   ]
  },
  {
   "cell_type": "code",
   "execution_count": 6,
   "metadata": {},
   "outputs": [
    {
     "name": "stdout",
     "output_type": "stream",
     "text": [
      "Total number of m is: 2\n"
     ]
    }
   ],
   "source": [
    "name = \"mariya mennen\"\n",
    "count = 0\n",
    "for char in name:\n",
    "    if char != 'm':\n",
    "        continue\n",
    "    else:\n",
    "        count = count + 1\n",
    "\n",
    "print('Total number of m is:', count)"
   ]
  },
  {
   "cell_type": "code",
   "execution_count": 7,
   "metadata": {},
   "outputs": [],
   "source": [
    "num = [1, 4, 5, 3, 7, 8]\n",
    "for i in num:\n",
    "    # calculate multiplication in future if required\n",
    "    pass"
   ]
  },
  {
   "cell_type": "code",
   "execution_count": 8,
   "metadata": {},
   "outputs": [
    {
     "name": "stdout",
     "output_type": "stream",
     "text": [
      "1\n",
      "2\n",
      "3\n",
      "4\n",
      "5\n",
      "Done\n"
     ]
    }
   ],
   "source": [
    "for i in range(1, 6):\n",
    "    print(i)\n",
    "else:\n",
    "    print(\"Done\")"
   ]
  },
  {
   "cell_type": "code",
   "execution_count": 9,
   "metadata": {},
   "outputs": [
    {
     "name": "stdout",
     "output_type": "stream",
     "text": [
      "1\n",
      "2\n"
     ]
    }
   ],
   "source": [
    " count = 0\n",
    "for i in range(1, 6):\n",
    "    count = count + 1\n",
    "    if count > 2:\n",
    "        break\n",
    "    else:\n",
    "        print(i)\n",
    "else:\n",
    "    print(\"Done\")"
   ]
  },
  {
   "cell_type": "code",
   "execution_count": 6,
   "metadata": {},
   "outputs": [],
   "source": [
    "from typing import List\n",
    "class Solution:\n",
    "    def largestOverlap(self, A: List[List[int]], B: List[List[int]]) -> int:\n",
    "        a_1 = []\n",
    "        b_1 = []\n",
    "        for i in range(len(A)):\n",
    "            for j in range(len(A[0])):\n",
    "                if A[i][j] == 1:\n",
    "                    a_1.append((i,j))\n",
    "                if B[i][j] == 1:\n",
    "                    b_1.append((i,j))\n",
    "        d = {}\n",
    "        ans = 0\n",
    "        for a_x, a_y in a_1:\n",
    "            for b_x,b_y in  b_1:\n",
    "                tr = (b_x - a_x, b_y - a_y)\n",
    "                if tr in d:\n",
    "                    d[tr] += 1\n",
    "                else:\n",
    "                    d[tr] = 1\n",
    "                ans = max(ans, d[tr])\n",
    "        return ans"
   ]
  },
  {
   "cell_type": "code",
   "execution_count": 7,
   "metadata": {},
   "outputs": [],
   "source": [
    "img1 = [[1,1,0],[0,1,0],[0,1,0]]\n",
    "img2 = [[0,0,0],[0,1,1],[0,0,1]]"
   ]
  },
  {
   "cell_type": "code",
   "execution_count": 62,
   "metadata": {},
   "outputs": [
    {
     "name": "stdout",
     "output_type": "stream",
     "text": [
      "[(0, 0), (0, 1), (1, 1), (2, 1)]\n",
      "[(1, 1), (1, 2), (2, 2)]\n",
      "3\n",
      "{(1, 1): 3, (1, 2): 1, (2, 2): 1, (1, 0): 1, (2, 1): 1, (0, 0): 1, (0, 1): 2, (-1, 0): 1, (-1, 1): 1}\n"
     ]
    }
   ],
   "source": [
    "A = [[1,1,0],[0,1,0],[0,1,0]]\n",
    "B = [[0,0,0],[0,1,1],[0,0,1]] \n",
    "a_1 = []\n",
    "b_1 = []\n",
    "for i in range(len(A)):\n",
    "    for j in range(len(A[0])):\n",
    "        if A[i][j] == 1:\n",
    "            a_1.append((i,j))\n",
    "        if B[i][j] == 1:\n",
    "                b_1.append((i,j))\n",
    "        d = {}\n",
    "        ans = 0\n",
    "print(a_1)\n",
    "print(b_1)\n",
    "for a_x, a_y in a_1:\n",
    "            for b_x,b_y in  b_1:\n",
    "                tr = (b_x - a_x, b_y - a_y)\n",
    "                if tr in d:\n",
    "                    d[tr] += 1\n",
    "                else:\n",
    "                    d[tr] = 1\n",
    "                ans = max(ans, d[tr])\n",
    "print(ans)\n",
    "print(d)"
   ]
  },
  {
   "cell_type": "code",
   "execution_count": 60,
   "metadata": {},
   "outputs": [],
   "source": [
    "numbers= [1, 2, 1, 3, 4]\n",
    "def solution(numbers):\n",
    "    j=0\n",
    "    list=[]\n",
    "    for i in numbers:\n",
    "        if j<=len(numbers)-3:\n",
    "            if (numbers[j]>numbers[j+1] and numbers[j+2]>numbers[j+1]) or (numbers[j+2]<numbers[j+1] and numbers[j]<numbers[j+1]):\n",
    "                list.append(1)\n",
    "            else: list.append(0)\n",
    "            j=j+1\n",
    "    return list\n",
    "\n"
   ]
  },
  {
   "cell_type": "code",
   "execution_count": 61,
   "metadata": {},
   "outputs": [
    {
     "data": {
      "text/plain": [
       "[1, 1, 0]"
      ]
     },
     "execution_count": 61,
     "metadata": {},
     "output_type": "execute_result"
    }
   ],
   "source": [
    "solution(numbers)"
   ]
  },
  {
   "cell_type": "code",
   "execution_count": 87,
   "metadata": {},
   "outputs": [],
   "source": [
    "a = [1, 4, 5, 6, 3]\n",
    "def solution(list):\n",
    "    b=[]\n",
    "    if len(a)%2==0:\n",
    "        i=0\n",
    "        while i<=len(a)/2:\n",
    "            b.append(a[i])\n",
    "            b.append(a[len(a)-i-1])\n",
    "            i+=1\n",
    "    else:\n",
    "        i=0\n",
    "        while i<int(len(a)/2):\n",
    "            b.append(a[i])\n",
    "            b.append(a[len(a)-i-1])\n",
    "            i+=1\n",
    "        b.append(a[int(len(a)/2)])\n",
    "    if b==sorted(a):\n",
    "        print(\"true\")\n",
    "    else:\n",
    "        print(\"false\")\n",
    "    "
   ]
  },
  {
   "cell_type": "code",
   "execution_count": 88,
   "metadata": {},
   "outputs": [
    {
     "name": "stdout",
     "output_type": "stream",
     "text": [
      "false\n"
     ]
    }
   ],
   "source": [
    "a = [1, 4, 5, 6, 3]\n",
    "solution(b)"
   ]
  },
  {
   "cell_type": "code",
   "execution_count": 89,
   "metadata": {},
   "outputs": [],
   "source": [
    "b=[]\n",
    "if len(a)%2==0:\n",
    "    i=0\n",
    "    while i<=len(a)/2:\n",
    "        b.append(a[i])\n",
    "        b.append(a[len(a)-i-1])\n",
    "        i+=1\n",
    "else:\n",
    "    i=0\n",
    "    while i<int(len(a)/2):\n",
    "        b.append(a[i])\n",
    "        b.append(a[len(a)-i-1])\n",
    "        i+=1\n",
    "    b.append(a[int(len(a)/2)])"
   ]
  },
  {
   "cell_type": "code",
   "execution_count": 90,
   "metadata": {},
   "outputs": [
    {
     "name": "stdout",
     "output_type": "stream",
     "text": [
      "[1, 3, 4, 6, 5]\n"
     ]
    }
   ],
   "source": [
    "print(b)"
   ]
  },
  {
   "cell_type": "code",
   "execution_count": 16,
   "metadata": {},
   "outputs": [
    {
     "name": "stdout",
     "output_type": "stream",
     "text": [
      "116\n",
      "115\n"
     ]
    }
   ],
   "source": [
    "print(ord(\"t\"))\n",
    "print(ord(\"s\"))"
   ]
  },
  {
   "cell_type": "code",
   "execution_count": 38,
   "metadata": {},
   "outputs": [
    {
     "name": "stdout",
     "output_type": "stream",
     "text": [
      "stouperwer\n"
     ]
    }
   ],
   "source": [
    "s1 = \"super\"\n",
    "s2 = \"tower\"\n",
    "#s1 = \"dce\"  \n",
    "#s2 = \"cccbd\"\n",
    "a=list(s1)\n",
    "b=list(s2)\n",
    "i=0\n",
    "j=0\n",
    "s=''\n",
    "ss=''\n",
    "if len(set(s2)) == len(s2) and len(set(s1)) == len(s1):\n",
    "    while i<len(a) and j<len(b):\n",
    "        if ord(a[i])<ord(b[j]):\n",
    "            s=s+str(a[i])\n",
    "            i+=1\n",
    "        elif ord(a[i])>ord(b[j]):\n",
    "            s=s+str(b[j])\n",
    "            j+=1\n",
    "    while i<len(a):\n",
    "        s=s+str(a[i])\n",
    "        i+=1\n",
    "    while j<len(b):\n",
    "        s=s+str(b[j])\n",
    "        j+=1\n",
    "\n",
    "elif len(set(s2)) != len(s2) and len(set(s1)) == len(s1):\n",
    "    s=str(s1)+str(s2)\n",
    "elif len(set(s2)) == len(s2) and len(set(s1)) != len(s1):\n",
    "    s=str(s2)+str(s1)\n",
    "elif len(set(s2)) != len(s2) and len(set(s1)) != len(s1):\n",
    "    s=str(s1)+str(s2)\n",
    "print(s)"
   ]
  },
  {
   "cell_type": "code",
   "execution_count": 41,
   "metadata": {},
   "outputs": [
    {
     "name": "stdout",
     "output_type": "stream",
     "text": [
      "01234\n",
      "['P', 'y', 't', 'h', 'o', 'n']\n",
      "{'a': 4, 'c': 3}\n"
     ]
    }
   ],
   "source": [
    "s = \"\"\n",
    "for i in range(5):\n",
    "    s+=str(i)\n",
    "print(s)\n",
    "my_string = 'Python'\n",
    "tokens = list(my_string)\n",
    "print(tokens)\n",
    "s1='aacccaa'\n",
    "record1={}\n",
    "for ch in s1:\n",
    "    record1[ch] = record1.get(ch,0)+1\n",
    "print(record1)"
   ]
  },
  {
   "cell_type": "code",
   "execution_count": 30,
   "metadata": {},
   "outputs": [],
   "source": [
    "s1 = \"super\"\n",
    "s2 = \"tower\"\n",
    "def mergeStrings(s1, s2):\n",
    "    \n",
    "    # record appear times\n",
    "    record1 = {}\n",
    "    record2 = {}\n",
    "    for ch in s1:\n",
    "        record1[ch] = record1.get(ch,0)+1\n",
    "    for ch in s2:\n",
    "        record2[ch] = record2.get(ch,0)+1\n",
    "    \n",
    "    # merge with two pointers\n",
    "    pt1 = 0\n",
    "    pt2 = 0\n",
    "    len1 = len(s1)\n",
    "    len2 = len(s2)\n",
    "    res = []\n",
    "    while pt1 < len1 and pt2 < len2:\n",
    "        if record1[s1[pt1]] < record2[s2[pt2]]:\n",
    "            res.append(s1[pt1])\n",
    "            pt1 += 1\n",
    "        elif record1[s1[pt1]] > record2[s2[pt2]]:\n",
    "            res.append(s2[pt2])\n",
    "            pt2 += 1\n",
    "        else:\n",
    "            # if equal times\n",
    "            if s1[pt1] <= s2[pt2]:\n",
    "                res.append(s1[pt1])\n",
    "                pt1 += 1\n",
    "            elif s1[pt1] > s2[pt2]:\n",
    "                res.append(s2[pt2])\n",
    "                pt2 += 1\n",
    "                \n",
    "    # continue with the remaining characters\n",
    "    while pt1 < len1:\n",
    "        res.append(s1[pt1])\n",
    "        pt1 += 1\n",
    "    \n",
    "    while pt2 < len2:\n",
    "        res.append(s2[pt2])\n",
    "        pt2 += 1\n",
    "    return \"\".join(res)"
   ]
  },
  {
   "cell_type": "code",
   "execution_count": 31,
   "metadata": {},
   "outputs": [
    {
     "data": {
      "text/plain": [
       "'stouperwer'"
      ]
     },
     "execution_count": 31,
     "metadata": {},
     "output_type": "execute_result"
    }
   ],
   "source": [
    "mergeStrings(s1, s2)"
   ]
  },
  {
   "cell_type": "code",
   "execution_count": 43,
   "metadata": {},
   "outputs": [],
   "source": [
    "def addToValue(hmap,k):\n",
    "    for key,val in hmap.items():\n",
    "        hmap[key]+=k\n",
    "        return hmap\n",
    "def addToKey(hmap,k):\n",
    "    newHmap={}\n",
    "    for key,val in hmap.items():\n",
    "        newKey = key+k\n",
    "        newHmap[newKey]=val\n",
    "        return newHmap\n",
    "\n",
    "def solution(queryType, query):\n",
    "    ans = 0\n",
    "    hmap = {}\n",
    "    ck = 0\n",
    "    cv = 0\n",
    "    for i in range(len(queryType)):\n",
    "        cmd = queryType[i]\n",
    "        quer = query[i]\n",
    "        if cmd == \"insert\":\n",
    "            key,val = quer[0],quer[1]\n",
    "            hmap[key-ck]=val-cv\n",
    "        elif cmd == \"addToValue\":\n",
    "            k = quer[0]\n",
    "            cv+=k\n",
    "        elif cmd == \"addToKey\":\n",
    "            k = quer[0]\n",
    "            ck+=k\n",
    "        else:\n",
    "            k = quer[0]\n",
    "            k-=ck\n",
    "            val = hmap[k] + cv\n",
    "            ans = ans + val\n",
    "    return ans"
   ]
  },
  {
   "cell_type": "code",
   "execution_count": 44,
   "metadata": {},
   "outputs": [
    {
     "data": {
      "text/plain": [
       "5"
      ]
     },
     "execution_count": 44,
     "metadata": {},
     "output_type": "execute_result"
    }
   ],
   "source": [
    "queryType = [\"insert\", \"insert\", \"addToValue\", \"addToKey\", \"get\"]\n",
    "query = [[1, 2], [2, 3], [2], [1], [3]]\n",
    "solution(queryType, query) "
   ]
  },
  {
   "cell_type": "code",
   "execution_count": null,
   "metadata": {},
   "outputs": [],
   "source": []
  },
  {
   "cell_type": "code",
   "execution_count": 53,
   "metadata": {},
   "outputs": [
    {
     "data": {
      "text/plain": [
       "[9]"
      ]
     },
     "execution_count": 53,
     "metadata": {},
     "output_type": "execute_result"
    }
   ],
   "source": [
    "#a = [4, 0, 1, -2, 3]\n",
    "a=[9]\n",
    "def solution(a):\n",
    "    b=[]\n",
    "    i=0\n",
    "    if len(a)==1:\n",
    "        b=a\n",
    "    else:\n",
    "        while i<len(a):\n",
    "            if i==0:\n",
    "                b.append(0+a[i]+a[i+1])\n",
    "                i+=1\n",
    "            elif i+1>=len(a):\n",
    "                b.append(0+a[i]+a[i-1])\n",
    "                break\n",
    "            else:\n",
    "                b.append(a[i-1]+a[i]+a[i+1])\n",
    "                i+=1\n",
    "    return b\n",
    "\n",
    "solution(a)"
   ]
  },
  {
   "cell_type": "code",
   "execution_count": null,
   "metadata": {},
   "outputs": [],
   "source": []
  },
  {
   "cell_type": "code",
   "execution_count": 9,
   "metadata": {},
   "outputs": [
    {
     "name": "stdout",
     "output_type": "stream",
     "text": [
      "\n"
     ]
    }
   ],
   "source": []
  },
  {
   "cell_type": "markdown",
   "metadata": {},
   "source": [
    "You are given a string s. Consider the following algorithm applied to this string:\n",
    "1.\tTake all the prefixes of the string, and choose the longest palindrome between them.\n",
    "2.\tIf this chosen prefix contains at least two characters, cut this prefix from s and go back to the first step with the updated string. Otherwise, end the algorithm with the current string s as a result.\n",
    "Your task is to implement the above algorithm and return its result when applied to string s.\n",
    "Note: you can click on the prefixes and palindrome words to see the definition of the terms if you're not familiar with them.\n"
   ]
  },
  {
   "cell_type": "code",
   "execution_count": 14,
   "metadata": {},
   "outputs": [
    {
     "data": {
      "text/plain": [
       "''"
      ]
     },
     "execution_count": 14,
     "metadata": {},
     "output_type": "execute_result"
    }
   ],
   "source": [
    "s='c'\n",
    "s = \"aaacodedoc\"\n",
    "def solution(s):\n",
    "    n = len(s)\n",
    "    l=0\n",
    "    ml=0\n",
    "    if n==1:\n",
    "        r=s\n",
    "    else:\n",
    "        \n",
    "        while l<len(s) and n>1:\n",
    "            temp = s[ml:l]\n",
    "            temp2 = temp\n",
    "            temp3 = temp2[::-1]\n",
    "            if temp == temp3:\n",
    "                ml=l+1\n",
    "                l+=1\n",
    "            else:\n",
    "                l+=1\n",
    "    if ml!=0:r=s[ml+1:n]\n",
    "    else:r=s\n",
    "    return r\n",
    "\n",
    "solution(s)"
   ]
  },
  {
   "cell_type": "markdown",
   "metadata": {},
   "source": [
    "You are given a matrix of integers field of size n × m representing a game field, and also a matrix of integers figure of size 3 × 3 representing a figure. Both matrices contain only 0s and 1s, where 1 means that the cell is occupied, and 0 means that the cell is free.\n",
    "You choose a position at the top of the game field where you put the figure and then drop it down. The figure falls down until it either reaches the ground (bottom of the field) or lands on an occupied cell, which blocks it from falling further. After the figure has stopped falling, some of the rows in the field may become fully occupied.\n"
   ]
  },
  {
   "cell_type": "code",
   "execution_count": 83,
   "metadata": {},
   "outputs": [
    {
     "name": "stdout",
     "output_type": "stream",
     "text": [
      "0\n",
      "1\n"
     ]
    }
   ],
   "source": [
    "for i in range(1):\n",
    "    print(i)\n",
    "field =  [[0, 0, 0, 0],\n",
    "         [0, 0, 0, 0],\n",
    "        [0, 0, 0, 0],\n",
    "        [1, 0, 0, 1],\n",
    "         [1, 1, 0, 1]]\n",
    "print(field[3][0])"
   ]
  },
  {
   "cell_type": "code",
   "execution_count": 96,
   "metadata": {},
   "outputs": [
    {
     "name": "stdout",
     "output_type": "stream",
     "text": [
      "-1\n"
     ]
    }
   ],
   "source": [
    "field =  [[0, 0, 0, 0],\n",
    "         [0, 0, 0, 0],\n",
    "        [0, 0, 0, 0],\n",
    "        [1, 0, 0, 1],\n",
    "         [1, 1, 0, 1]]\n",
    "figure = [[1, 1, 0],\n",
    "          [1, 0, 0],\n",
    "          [1, 0, 0]]\n",
    "h=len(field)\n",
    "w=len(field[0])\n",
    "fs=len(figure)\n",
    "for col in range(w-fs+1):\n",
    "    r=1\n",
    "    can_fit=True\n",
    "    while r<h-fs+1:\n",
    "        for dx in range(fs):\n",
    "            for dy in range(fs):\n",
    "                if field[r+dx][col+dy]==1 and figure[dx][dy]==1:\n",
    "                    can_fit=False\n",
    "            if can_fit==False:\n",
    "                break\n",
    "        r+=1\n",
    "    r-=1\n",
    "for dx in range(fs):\n",
    "    row_fill=True\n",
    "    for col_index in range(w):\n",
    "        if not (field[row+dx][col_index]==1 or figure[dx][col_index - col]==1) and col + figure_size>col_index>=col:\n",
    "            row_fill=False\n",
    "    if row_fill:\n",
    "        print(column)\n",
    "if row_fill==False:\n",
    "    print(-1)\n",
    "           \n",
    "                "
   ]
  },
  {
   "cell_type": "code",
   "execution_count": 88,
   "metadata": {},
   "outputs": [
    {
     "name": "stdout",
     "output_type": "stream",
     "text": [
      "2\n",
      "2\n",
      "2\n"
     ]
    }
   ],
   "source": [
    "figure = [[1, 1, 1],\n",
    "          [1, 0, 1],\n",
    "          [1, 0, 1]]\n",
    "field =  [[0, 0, 0, 0, 0],\n",
    "         [0, 0, 0, 0, 0],\n",
    "          [0, 0, 0, 0, 0],\n",
    "         [1, 0, 1, 0, 1]]\n",
    "height = len(field)\n",
    "width = len(field[0])\n",
    "figure_size = len(figure)\n",
    "for column in range(width - figure_size + 1):\n",
    "    row = 1\n",
    "    while row < height - figure_size + 1:\n",
    "        can_fit = True\n",
    "        for dx in range(figure_size):\n",
    "            for dy in range(figure_size):\n",
    "                if field[row + dx][column + dy] == 1 and figure[dx][dy] == 1:\n",
    "                    can_fit = False\n",
    "            if not can_fit:\n",
    "                break\n",
    "        row += 1\n",
    "    row -= 1\n",
    "for dx in range(figure_size):\n",
    "    row_fill=True\n",
    "    for col_index in range(figure_size):\n",
    "        if not (field[row+dx][col_index]==1 or figure[dx][column_index - col]==1) and col + figure_size>col_index>=col:\n",
    "            row_fill=False\n",
    "    if row_fill:\n",
    "        print(column)"
   ]
  },
  {
   "cell_type": "code",
   "execution_count": 90,
   "metadata": {},
   "outputs": [],
   "source": [
    "def solution(field, figure):\n",
    "    height = len(field)\n",
    "    width = len(field[0])\n",
    "    figure_size = len(figure)\n",
    "    for column in range(width - figure_size + 1):\n",
    "        row = 1\n",
    "        while row < height - figure_size + 1:\n",
    "            can_fit = True\n",
    "            for dx in range(figure_size):\n",
    "                for dy in range(figure_size):\n",
    "                    if field[row + dx][column + dy] == 1 and figure[dx][dy] == 1:\n",
    "                        can_fit = False\n",
    "                if not can_fit:\n",
    "                    break\n",
    "            row += 1\n",
    "        row -= 1\n",
    "    for dx in range(figure_size):\n",
    "        row_filled = True\n",
    "        for column_index in range(width):\n",
    "            if not (field[row + dx][column_index] == 1 or\n",
    "                    (column <= column_index < column + figure_size and\\\n",
    "                     figure[dx][column_index - column] == 1)):\n",
    "                row_filled = False\n",
    "        if row_filled:\n",
    "            return column\n",
    "    return -1"
   ]
  },
  {
   "cell_type": "code",
   "execution_count": 91,
   "metadata": {},
   "outputs": [
    {
     "data": {
      "text/plain": [
       "-1"
      ]
     },
     "execution_count": 91,
     "metadata": {},
     "output_type": "execute_result"
    }
   ],
   "source": [
    "figure = [[1, 1, 1],\n",
    "          [1, 0, 1],\n",
    "          [1, 0, 1]]\n",
    "field =  [[0, 0, 0, 0, 0],\n",
    "         [0, 0, 0, 0, 0],\n",
    "          [0, 0, 0, 0, 0],\n",
    "         [1, 0, 1, 0, 1]]\n",
    "solution(field, figure)"
   ]
  },
  {
   "cell_type": "markdown",
   "metadata": {},
   "source": [
    "Given an array of unique integers numbers, your task is to find the number of pairs of indices (i, j) such that i ≤ j and the sum numbers[i] + numbers[j] is equal to some power of 2.\n",
    "\n",
    "Note: The numbers 20  = 1, 21 = 2, 22 = 4, 23 = 8, etc. are considered to be powers of 2.\n",
    "\n",
    "Example\n",
    "\n",
    "For numbers = [1, -1, 2, 3], the output should be solution(numbers) = 5.\n",
    "– There is one pair of indices where the sum of the elements is 20 = 1: (1, 2): numbers[1] + numbers[2] = -1 + 2 = 1\n",
    "– There are two pairs of indices where the sum of the elements is 21 = 2: (0, 0) and (1, 3)\n",
    "– There are two pairs of indices where the sum of the elements is 22 = 4: (0, 3) and (2, 2)\n",
    "– In total, there are 1 + 2 + 2 = 5 pairs summing to powers of 2.\n",
    "\n",
    "For numbers = [2], the output should be solution(numbers) = 1.\n",
    "– The only pair of indices is (0, 0) and the sum is equal to 22 = 4. So, the answer is 1.\n",
    "\n",
    "For numbers = [-2, -1, 0, 1, 2], the output should be solution(numbers) = 5.\n",
    "– There are two pairs of indices where the sum of the elements is 20 = 1: (2, 3) and (1, 4)\n",
    "– There are two pairs of indices where the sum of the elements is 21 = 2: (2, 4) and (3, 3)\n",
    "– There is one pair of indices where the sum of the elements is 22 = 4: (4, 4)\n",
    "– In total, there are 2 + 2 + 1 = 5 pairs summing to powers of 2. \n",
    "\n",
    "Guaranteed constraints:\n",
    "\n",
    "1 ≤ numbers.length ≤ 105\n",
    "-106 ≤ numbers[i] ≤ 106"
   ]
  },
  {
   "cell_type": "code",
   "execution_count": 71,
   "metadata": {},
   "outputs": [],
   "source": [
    "#1%2\n",
    "import math\n",
    "math.log2(1)\n",
    "def Log2(x):\n",
    "    return (math.log10(x) /\n",
    "            math.log10(2));"
   ]
  },
  {
   "cell_type": "code",
   "execution_count": 21,
   "metadata": {},
   "outputs": [
    {
     "name": "stdout",
     "output_type": "stream",
     "text": [
      "3.0\n"
     ]
    },
    {
     "data": {
      "text/plain": [
       "False"
      ]
     },
     "execution_count": 21,
     "metadata": {},
     "output_type": "execute_result"
    }
   ],
   "source": [
    "import math\n",
    "print(math.log10(8) /math.log10(2))\n",
    "isinstance(math.log10(8)/math.log10(2), int)"
   ]
  },
  {
   "cell_type": "code",
   "execution_count": 13,
   "metadata": {},
   "outputs": [
    {
     "name": "stdout",
     "output_type": "stream",
     "text": [
      "6\n",
      "[(0, 0), (0, 3), (1, 2), (1, 3), (2, 2), (3, 3)]\n"
     ]
    }
   ],
   "source": [
    "numbers = [1, -1, 2, 3]\n",
    "#numbers = [-2, -1, 0, 1, 2]\n",
    "cnt=0\n",
    "b=[]\n",
    "for i in range(len(numbers)):\n",
    "    for j in range(len(numbers)):\n",
    "        if ((numbers[i]+numbers[j])%2==0 or numbers[i]+numbers[j]==1) and i<=j and (numbers[i]+numbers[j])>0:\n",
    "            cnt+=1\n",
    "            b.append((i,j))\n",
    "print(cnt)\n",
    "print(b)"
   ]
  },
  {
   "cell_type": "code",
   "execution_count": 30,
   "metadata": {},
   "outputs": [],
   "source": [
    "import math\n",
    "def Log2(x):\n",
    "    if x == 0:\n",
    "        return false\n",
    "    return (math.log10(x)/math.log10(2))\n",
    "def isPowerOfTwo(n):\n",
    "    return (math.ceil(Log2(n)) ==\n",
    "            math.floor(Log2(n)))"
   ]
  },
  {
   "cell_type": "code",
   "execution_count": 31,
   "metadata": {},
   "outputs": [
    {
     "data": {
      "text/plain": [
       "5"
      ]
     },
     "execution_count": 31,
     "metadata": {},
     "output_type": "execute_result"
    }
   ],
   "source": [
    "\n",
    "def solution(numbers):\n",
    "    cn=0\n",
    "    \n",
    "    for i in range(len(numbers)):\n",
    "            for j in range(len(numbers)):\n",
    "                if (numbers[i]+numbers[j])>0:\n",
    "                    if isPowerOfTwo(numbers[i]+numbers[j]) and i<=j:\n",
    "                        cn+=1\n",
    "\n",
    "    return cn\n",
    "#numbers=[2]\n",
    "#solution(numbers)\n",
    "numbers = [-2, -1, 0, 1, 2]\n",
    "solution(numbers)"
   ]
  },
  {
   "cell_type": "code",
   "execution_count": 59,
   "metadata": {},
   "outputs": [
    {
     "data": {
      "text/plain": [
       "5"
      ]
     },
     "execution_count": 59,
     "metadata": {},
     "output_type": "execute_result"
    }
   ],
   "source": [
    "from collections import defaultdict\n",
    "\n",
    "def solution(numbers):\n",
    "        counts = defaultdict(int)\n",
    "        answer = 0\n",
    "        for element in numbers:\n",
    "            counts[element] += 1\n",
    "            for two_power in range(21):\n",
    "                second_element = (1 << two_power) - element\n",
    "                answer += counts[second_element]\n",
    "        return answer\n",
    "numbers=[2]\n",
    "solution(numbers)\n",
    "numbers = [-2, -1, 0, 1, 2]\n",
    "solution(numbers)"
   ]
  },
  {
   "cell_type": "code",
   "execution_count": 77,
   "metadata": {},
   "outputs": [
    {
     "name": "stdout",
     "output_type": "stream",
     "text": [
      "28.24.14\n"
     ]
    }
   ],
   "source": [
    "import requests\n",
    "import json\n",
    "url = 'https://api.codesignalcontent.com/libraries1_1/libraries/express/latest'\n",
    "\n",
    "params = dict(\n",
    "    name='express',\n",
    "    version='28.24.14',\n",
    "    installedOnServer='true'\n",
    "\n",
    ")\n",
    "\n",
    "resp = requests.get(url=url, params=params)\n",
    "data = resp.json() \n",
    "#y = json.loads(data)\n",
    "print(data[\"version\"])"
   ]
  },
  {
   "cell_type": "markdown",
   "metadata": {},
   "source": [
    "ou are given an array of integers numbers and two integers left and right. You task is to calculate a boolean array result, where result[i] = true if there exists an integer x, such that numbers[i] = (i + 1) * x and left ≤ x ≤ right. Otherwise, result[i] should be set to false.\n",
    "\n",
    "Example\n",
    "\n",
    "For numbers = [8, 5, 6, 16, 5], left = 1, and right = 3, the output should be solution(numbers, left, right) = [false, false, true, false, true].\n",
    "\n",
    "For numbers[0] = 8, we need to find a value of x such that 1 * x = 8, but the only value that would work is x = 8 which doesn't satisfy the boundaries 1 ≤ x ≤ 3, so result[0] = false.\n",
    "For numbers[1] = 5, we need to find a value of x such that 2 * x = 5, but there is no integer value that would satisfy this equation, so result[1] = false.\n",
    "For numbers[2] = 6, we can choose x = 2 because 3 * 2 = 6 and 1 ≤ 2 ≤ 3, so result[2] = true.\n",
    "For numbers[3] = 16, there is no an integer 1 ≤ x ≤ 3, such that 4 * x = 16, so result[3] = false.\n",
    "For numbers[4] = 5, we can choose x = 1 because 5 * 1 = 5 and 1 ≤ 1 ≤ 3, so result[4] = true."
   ]
  },
  {
   "cell_type": "code",
   "execution_count": 78,
   "metadata": {},
   "outputs": [
    {
     "data": {
      "text/plain": [
       "[False, False, True, False, True]"
      ]
     },
     "execution_count": 78,
     "metadata": {},
     "output_type": "execute_result"
    }
   ],
   "source": [
    "def solution(numbers, left, right):\n",
    "    i=0\n",
    "    results=[]\n",
    "    while i<len(numbers):\n",
    "        k=0\n",
    "        for x in range(left,right+1):\n",
    "            if numbers[i]==(i+1)*x:\n",
    "                k=1\n",
    "                l=True\n",
    "                results.append(l)\n",
    "                break\n",
    "        i+=1\n",
    "        if k==0:\n",
    "            l=False\n",
    "            results.append(l)\n",
    "    return results\n",
    "numbers = [8, 5, 6, 16, 5]\n",
    "left = 1\n",
    "right = 3\n",
    "solution(numbers, left, right) "
   ]
  },
  {
   "cell_type": "markdown",
   "metadata": {},
   "source": [
    "You are given an array of non-negative integers numbers. You are allowed to choose any number from this array and swap any two digits in it. If after the swap operation the number contains leading zeros, they can be omitted and not considered (eg: 010 will be considered just 10).\n",
    "\n",
    "Your task is to check whether it is possible to apply the swap operation at most once, so that the elements of the resulting array are strictly increasing.\n",
    "\n",
    "Example\n",
    "\n",
    "For numbers = [1, 5, 10, 20], the output should be solution(numbers) = true.\n",
    "\n",
    "The initial array is already strictly increasing, so no actions are required.\n",
    "\n",
    "For numbers = [1, 3, 900, 10], the output should be solution(numbers) = true.\n",
    "\n",
    "By choosing numbers[2] = 900 and swapping its first and third digits, the resulting number 009 is considered to be just 9. So the updated array will look like [1, 3, 9, 10], which is strictly increasing.\n",
    "\n",
    "For numbers = [13, 31, 30], the output should be solution(numbers) = false.\n",
    "\n",
    "The initial array elements are not increasing.\n",
    "By swapping the digits of numbers[0] = 13, the array becomes [31, 31, 30] which is not strictly increasing;\n",
    "By swapping the digits of numbers[1] = 31, the array becomes [13, 13, 30] which is not strictly increasing;\n",
    "By swapping the digits of numbers[2] = 30, the array becomes [13, 31, 3] which is not strictly increasing;\n",
    "So, it's not possible to obtain a strictly increasing array, and the answer is false."
   ]
  },
  {
   "cell_type": "code",
   "execution_count": 79,
   "metadata": {},
   "outputs": [],
   "source": [
    "def solution(numbers):\n",
    "    r=0\n",
    "    i=0\n",
    "    while i<len(numbers):\n",
    "        gg=str(numbers[i])\n",
    "        k=0\n",
    "        fake=numbers\n",
    "        if \"0\" in gg:\n",
    "            fake[i]=int(str(fake[i]).strip(\"0\"))\n",
    "            k=1\n",
    "        if fake==sorted(fake):\n",
    "                r+=1\n",
    "                \n",
    "        i+=1\n",
    "    if r>0 or numbers==sorted(numbers):\n",
    "        return True\n",
    "    else:\n",
    "        return False\n",
    "    "
   ]
  },
  {
   "cell_type": "markdown",
   "metadata": {},
   "source": [
    "You are given an array of strings arr. Your task is to construct a string from the words in arr, starting with the 0th character from each word (in the order they appear in arr), followed by the 1st character, then the 2nd character, etc. If one of the words doesn't have an ith character, skip that word.\n",
    "\n",
    "Return the resulting string.\n",
    "\n",
    "Example\n",
    "\n",
    "For arr = [\"Daisy\", \"Rose\", \"Hyacinth\", \"Poppy\"], the output should be solution(arr) = \"DRHPaoyoisapsecpyiynth\".\n",
    "\n",
    "First, we append all 0th characters and obtain string \"DRHP\";\n",
    "Then we append all 1st characters and obtain string \"DRHPaoyo\";\n",
    "Then we append all 2nd characters and obtain string \"DRHPaoyoisap\";\n",
    "Then we append all 3rd characters and obtain string \"DRHPaoyoisapsecp\";\n",
    "Then we append all 4th characters and obtain string \"DRHPaoyoisapsecpyiy\";\n",
    "Finally, only letters in the arr[2] are left, so we append the rest characters and get \"DRHPaoyoisapsecpyiynth\";\n",
    "example\n",
    "\n",
    "For arr = [\"E\", \"M\", \"I\", \"L\", \"Y\"], the output should be solution(arr) = \"EMILY\".\n",
    "\n",
    "Since each of these strings have only one character, the answer will be concatenation of each string in order, so the answer is EMILY."
   ]
  },
  {
   "cell_type": "code",
   "execution_count": 80,
   "metadata": {},
   "outputs": [],
   "source": [
    "def solution(arr):\n",
    "    ml=0\n",
    "    j=0\n",
    "    string=\"\"\n",
    "    for i in arr:\n",
    "        l=len(i)\n",
    "        if ml<l:ml=l\n",
    "            \n",
    "    while j<ml:\n",
    "        ii=0\n",
    "        while ii<len(arr):\n",
    "            if j<len(arr[ii]):\n",
    "                string=str(string)+str(arr[ii][j])\n",
    "            ii+=1\n",
    "                    \n",
    "        j+=1\n",
    "    return string\n",
    "        \n",
    "        "
   ]
  },
  {
   "cell_type": "code",
   "execution_count": 81,
   "metadata": {},
   "outputs": [
    {
     "data": {
      "text/plain": [
       "True"
      ]
     },
     "execution_count": 81,
     "metadata": {},
     "output_type": "execute_result"
    }
   ],
   "source": [
    "arr = [\"E\", \"M\", \"I\", \"L\", \"Y\"]\n",
    "solution(arr)\n",
    "arr = [\"Daisy\", \"Rose\", \"Hyacinth\", \"Poppy\"]\n",
    "solution(arr)=='DRHPaoyoisapsecpyiynth'"
   ]
  },
  {
   "cell_type": "code",
   "execution_count": 84,
   "metadata": {},
   "outputs": [
    {
     "name": "stdout",
     "output_type": "stream",
     "text": [
      "0\n",
      "D\n",
      "0\n",
      "DR\n",
      "0\n",
      "DRH\n",
      "0\n",
      "DRHP\n",
      "0\n",
      "1\n",
      "DRHPa\n",
      "1\n",
      "DRHPao\n",
      "1\n",
      "DRHPaoy\n",
      "1\n",
      "DRHPaoyo\n",
      "1\n",
      "2\n",
      "DRHPaoyoi\n",
      "2\n",
      "DRHPaoyois\n",
      "2\n",
      "DRHPaoyoisa\n",
      "2\n",
      "DRHPaoyoisap\n",
      "2\n",
      "3\n",
      "DRHPaoyoisaps\n",
      "3\n",
      "DRHPaoyoisapse\n",
      "3\n",
      "DRHPaoyoisapsec\n",
      "3\n",
      "DRHPaoyoisapsecp\n",
      "3\n",
      "4\n",
      "DRHPaoyoisapsecpy\n",
      "4\n",
      "DRHPaoyoisapsecpyi\n",
      "4\n",
      "DRHPaoyoisapsecpyiy\n",
      "4\n",
      "5\n",
      "DRHPaoyoisapsecpyiyn\n",
      "5\n",
      "6\n",
      "DRHPaoyoisapsecpyiynt\n",
      "6\n",
      "7\n",
      "DRHPaoyoisapsecpyiynth\n",
      "7\n"
     ]
    }
   ],
   "source": [
    "arr = [\"Daisy\", \"Rose\", \"Hyacinth\", \"Poppy\"]\n",
    "ml=0\n",
    "j=0\n",
    "string=\"\"\n",
    "for i in arr:\n",
    "    l=len(i)\n",
    "    if ml<l:ml=l\n",
    "while j<ml:\n",
    "    print(j)\n",
    "    ii=0\n",
    "    for ii in range(len(arr)):\n",
    "        if j<len(arr[ii]):\n",
    "            string=str(string)+str(arr[ii][j])\n",
    "            print(string)\n",
    "            print(j)\n",
    "    j+=1\n",
    "\n",
    "#while --- for --- only for execute once if for grab firat and last items!!\n",
    "    "
   ]
  },
  {
   "cell_type": "markdown",
   "metadata": {},
   "source": [
    "Given an array of unique integers numbers, your task is to find the number of pairs of indices (i, j) such that i ≤ j and the sum numbers[i] + numbers[j] is equal to some power of 2.\n",
    "\n",
    "Note: numbers 20 = 1, 21 = 2, 22 = 4, 23 = 8, etc. are considered to be powers of 2.\n",
    "\n",
    "Example\n",
    "\n",
    "For numbers = [1, -1, 2, 3], the output should be solution(numbers) = 5.\n",
    "There is one pair of indices where the corresponding elements sum up to 20 = 1:\n",
    "(1, 2): numbers[1] + numbers[2] = -1 + 2 = 1\n",
    "There are two pairs of indices where the corresponding elements sum up to 21 = 2:\n",
    "(0, 0): numbers[0] + numbers[0] = 1 + 1 = 2\n",
    "(1, 3): numbers[1] + numbers[3] = -1 + 3 = 2\n",
    "There are two pairs of indices where the corresponding elements sum up to 22 = 4:\n",
    "(0, 3): numbers[0] + numbers[3] = 1 + 3 = 4\n",
    "(2, 2): numbers[2] + numbers[2] = 2 + 2 = 4\n",
    "In total, there are 1 + 2 + 2 = 5 pairs summing up to powers of two.\n",
    "For numbers = [2], the output should be solution(numbers) = 1.\n",
    "The only pair of indices is (0, 0) and the sum of corresponding elements is equal to 22 = 4. So, the answer is 1.\n",
    "For numbers = [-2, -1, 0, 1, 2], the output should be solution(numbers) = 5.\n",
    "There are two pairs of indices where the corresponding elements sum up to 20 = 1: (2, 3) and (1, 4)\n",
    "There are two pairs of indices where the corresponding elements sum up to 21 = 2: (2, 4) and (3, 3)\n",
    "There is one pair of indices where the corresponding elements sum up to 22 = 4: (4, 4)\n",
    "In total, there are 2 + 2 + 1 = 5 pairs summing up to powers of 2"
   ]
  },
  {
   "cell_type": "code",
   "execution_count": 76,
   "metadata": {},
   "outputs": [
    {
     "ename": "TypeError",
     "evalue": "object of type 'int' has no len()",
     "output_type": "error",
     "traceback": [
      "\u001b[1;31m---------------------------------------------------------------------------\u001b[0m",
      "\u001b[1;31mTypeError\u001b[0m                                 Traceback (most recent call last)",
      "\u001b[1;32m<ipython-input-76-9978a646e5a1>\u001b[0m in \u001b[0;36m<module>\u001b[1;34m\u001b[0m\n\u001b[0;32m      1\u001b[0m \u001b[0mnumbers\u001b[0m \u001b[1;33m=\u001b[0m \u001b[1;33m[\u001b[0m\u001b[1;36m1\u001b[0m\u001b[1;33m,\u001b[0m \u001b[1;33m-\u001b[0m\u001b[1;36m1\u001b[0m\u001b[1;33m,\u001b[0m \u001b[1;36m2\u001b[0m\u001b[1;33m,\u001b[0m \u001b[1;36m3\u001b[0m\u001b[1;33m]\u001b[0m\u001b[1;33m\u001b[0m\u001b[1;33m\u001b[0m\u001b[0m\n\u001b[1;32m----> 2\u001b[1;33m \u001b[0msolution\u001b[0m\u001b[1;33m(\u001b[0m\u001b[0mnumbers\u001b[0m\u001b[1;33m)\u001b[0m\u001b[1;33m\u001b[0m\u001b[1;33m\u001b[0m\u001b[0m\n\u001b[0m",
      "\u001b[1;32m<ipython-input-71-baa9b0594298>\u001b[0m in \u001b[0;36msolution\u001b[1;34m(arr)\u001b[0m\n\u001b[0;32m      4\u001b[0m     \u001b[0mstring\u001b[0m\u001b[1;33m=\u001b[0m\u001b[1;34m\"\"\u001b[0m\u001b[1;33m\u001b[0m\u001b[1;33m\u001b[0m\u001b[0m\n\u001b[0;32m      5\u001b[0m     \u001b[1;32mfor\u001b[0m \u001b[0mi\u001b[0m \u001b[1;32min\u001b[0m \u001b[0marr\u001b[0m\u001b[1;33m:\u001b[0m\u001b[1;33m\u001b[0m\u001b[1;33m\u001b[0m\u001b[0m\n\u001b[1;32m----> 6\u001b[1;33m         \u001b[0ml\u001b[0m\u001b[1;33m=\u001b[0m\u001b[0mlen\u001b[0m\u001b[1;33m(\u001b[0m\u001b[0mi\u001b[0m\u001b[1;33m)\u001b[0m\u001b[1;33m\u001b[0m\u001b[1;33m\u001b[0m\u001b[0m\n\u001b[0m\u001b[0;32m      7\u001b[0m         \u001b[1;32mif\u001b[0m \u001b[0mml\u001b[0m\u001b[1;33m<\u001b[0m\u001b[0ml\u001b[0m\u001b[1;33m:\u001b[0m\u001b[0mml\u001b[0m\u001b[1;33m=\u001b[0m\u001b[0ml\u001b[0m\u001b[1;33m\u001b[0m\u001b[1;33m\u001b[0m\u001b[0m\n\u001b[0;32m      8\u001b[0m \u001b[1;33m\u001b[0m\u001b[0m\n",
      "\u001b[1;31mTypeError\u001b[0m: object of type 'int' has no len()"
     ]
    }
   ],
   "source": [
    "numbers = [1, -1, 2, 3]\n",
    "solution(numbers)"
   ]
  },
  {
   "cell_type": "code",
   "execution_count": 34,
   "metadata": {},
   "outputs": [
    {
     "data": {
      "text/plain": [
       "True"
      ]
     },
     "execution_count": 34,
     "metadata": {},
     "output_type": "execute_result"
    }
   ],
   "source": [
    "def isPowerOfTwo(n):\n",
    "    if (n == 0):\n",
    "        return False\n",
    "    while (n != 1):\n",
    "        if (n % 2 != 0):\n",
    "            return False\n",
    "        n = n // 2\n",
    " \n",
    "    return True\n",
    "\n",
    "isPowerOfTwo(16)"
   ]
  },
  {
   "cell_type": "code",
   "execution_count": null,
   "metadata": {},
   "outputs": [],
   "source": []
  }
 ],
 "metadata": {
  "kernelspec": {
   "display_name": "Python 3",
   "language": "python",
   "name": "python3"
  },
  "language_info": {
   "codemirror_mode": {
    "name": "ipython",
    "version": 3
   },
   "file_extension": ".py",
   "mimetype": "text/x-python",
   "name": "python",
   "nbconvert_exporter": "python",
   "pygments_lexer": "ipython3",
   "version": "3.7.3"
  }
 },
 "nbformat": 4,
 "nbformat_minor": 2
}
